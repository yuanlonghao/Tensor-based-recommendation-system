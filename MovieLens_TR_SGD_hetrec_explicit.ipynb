{
 "cells": [
  {
   "cell_type": "code",
   "execution_count": 1,
   "metadata": {},
   "outputs": [],
   "source": [
    "# for testing the performance of Tensor Random Projection on Recommendation System\n",
    "from tr_functions import *\n",
    "import timeit\n",
    "from datetime import datetime\n",
    "import pandas as pd\n",
    "from sklearn.model_selection import train_test_split"
   ]
  },
  {
   "cell_type": "code",
   "execution_count": 2,
   "metadata": {
    "scrolled": true
   },
   "outputs": [
    {
     "name": "stdout",
     "output_type": "stream",
     "text": [
      "Original data:\n",
      "number of rating is 485598\n",
      "number of user is 2111\n",
      "number of movie is 9544\n",
      "ratings are from 2005-12-27 09:06:02 to 2009-01-05 13:32:20\n",
      "time gap is 3.0279039193302895 years\n"
     ]
    },
    {
     "data": {
      "text/html": [
       "<div>\n",
       "<style scoped>\n",
       "    .dataframe tbody tr th:only-of-type {\n",
       "        vertical-align: middle;\n",
       "    }\n",
       "\n",
       "    .dataframe tbody tr th {\n",
       "        vertical-align: top;\n",
       "    }\n",
       "\n",
       "    .dataframe thead th {\n",
       "        text-align: right;\n",
       "    }\n",
       "</style>\n",
       "<table border=\"1\" class=\"dataframe\">\n",
       "  <thead>\n",
       "    <tr style=\"text-align: right;\">\n",
       "      <th></th>\n",
       "      <th>userID</th>\n",
       "      <th>movieID</th>\n",
       "      <th>rating</th>\n",
       "      <th>timestamp</th>\n",
       "    </tr>\n",
       "  </thead>\n",
       "  <tbody>\n",
       "    <tr>\n",
       "      <th>569876</th>\n",
       "      <td>46085</td>\n",
       "      <td>1407</td>\n",
       "      <td>3.5</td>\n",
       "      <td>1135641962000</td>\n",
       "    </tr>\n",
       "    <tr>\n",
       "      <th>569986</th>\n",
       "      <td>46085</td>\n",
       "      <td>2858</td>\n",
       "      <td>3.5</td>\n",
       "      <td>1135642017000</td>\n",
       "    </tr>\n",
       "    <tr>\n",
       "      <th>569988</th>\n",
       "      <td>46085</td>\n",
       "      <td>2890</td>\n",
       "      <td>4.5</td>\n",
       "      <td>1135642044000</td>\n",
       "    </tr>\n",
       "  </tbody>\n",
       "</table>\n",
       "</div>"
      ],
      "text/plain": [
       "        userID  movieID  rating      timestamp\n",
       "569876   46085     1407     3.5  1135641962000\n",
       "569986   46085     2858     3.5  1135642017000\n",
       "569988   46085     2890     4.5  1135642044000"
      ]
     },
     "execution_count": 2,
     "metadata": {},
     "output_type": "execute_result"
    }
   ],
   "source": [
    "# load data\n",
    "ratings = pd.read_csv(r'C:\\Users\\LHY\\Dropbox\\Gunosy\\Jupyter\\data\\ml-hetrec\\user_ratedmovies-timestamps.dat', sep=None,  engine='python')\n",
    "# tags = pd.read_csv(r'C:\\Users\\LHY\\Dropbox\\Gunosy\\Jupyter\\data\\ml-25m/tags.csv', engine='python')\n",
    "#ratings = ratings.sort_values(\"timestamp\", inplace=True, ascending=True)\n",
    "ratings = ratings.sort_values(\"timestamp\", inplace=False, ascending=True)[370000:]\n",
    "\n",
    "def ml_ratings_info(ratings):\n",
    "    user_count = ratings.iloc[:,0].value_counts()\n",
    "    movie_count = ratings.iloc[:,1].value_counts()\n",
    "    print('Original data:')\n",
    "    print('number of rating is', ratings.shape[0])\n",
    "    print('number of user is', user_count.shape[0])\n",
    "    print('number of movie is', movie_count.shape[0])\n",
    "    print('ratings are from', datetime.fromtimestamp(ratings.iloc[:,3].min()/1000), 'to', datetime.fromtimestamp(ratings.iloc[:,3].max()/1000))\n",
    "    print('time gap is', (ratings.iloc[:,3].max() - ratings.iloc[:,3].min())/365/24/3600/1000,'years')\n",
    "#print('data sparsity is', tags_count.shape[0]tags.iloc[:,0].value_counts().shape[0])\n",
    "ml_ratings_info(ratings)\n",
    "ratings[0:3]"
   ]
  },
  {
   "cell_type": "code",
   "execution_count": 3,
   "metadata": {},
   "outputs": [
    {
     "name": "stdout",
     "output_type": "stream",
     "text": [
      "27935    20\n",
      "59995    20\n",
      "54250    20\n",
      "Name: userID, dtype: int64\n",
      "Original data:\n",
      "number of rating is 485030\n",
      "number of user is 2045\n",
      "number of movie is 9544\n",
      "ratings are from 2005-12-27 09:06:02 to 2009-01-05 13:32:20\n",
      "time gap is 3.0279039193302895 years\n"
     ]
    }
   ],
   "source": [
    "# filtering users\n",
    "ratings_select = ratings.copy()\n",
    "num = 20\n",
    "\n",
    "user_count = ratings_select.iloc[:,0].value_counts()\n",
    "for i in range(user_count.shape[0]):\n",
    "    if np.array(user_count)[i] < num:\n",
    "        ratings_select = ratings_select[~ratings_select['userID'].isin([user_count.index[i]])]\n",
    "        \n",
    "user_count = ratings_select.iloc[:,0].value_counts()\n",
    "print(user_count[user_count.shape[0]-3:])\n",
    "ml_ratings_info(ratings_select)"
   ]
  },
  {
   "cell_type": "code",
   "execution_count": 4,
   "metadata": {},
   "outputs": [
    {
     "name": "stdout",
     "output_type": "stream",
     "text": [
      "8982     20\n",
      "27022    20\n",
      "2247     20\n",
      "Name: movieID, dtype: int64\n",
      "Original data:\n",
      "number of rating is 447535\n",
      "number of user is 2045\n",
      "number of movie is 3696\n",
      "ratings are from 2005-12-27 09:06:02 to 2009-01-05 13:32:20\n",
      "time gap is 3.0279039193302895 years\n"
     ]
    }
   ],
   "source": [
    "# filtering movies\n",
    "movie_count = ratings_select.iloc[:,1].value_counts()\n",
    "for i in range(movie_count.shape[0]):\n",
    "    if np.array(movie_count)[i] < num:\n",
    "        ratings_select = ratings_select[~ratings_select['movieID'].isin([movie_count.index[i]])]\n",
    "        \n",
    "movie_count = ratings_select.iloc[:,1].value_counts()\n",
    "print(movie_count[movie_count.shape[0]-3:])\n",
    "ml_ratings_info(ratings_select)"
   ]
  },
  {
   "cell_type": "code",
   "execution_count": 5,
   "metadata": {},
   "outputs": [
    {
     "data": {
      "text/html": [
       "<div>\n",
       "<style scoped>\n",
       "    .dataframe tbody tr th:only-of-type {\n",
       "        vertical-align: middle;\n",
       "    }\n",
       "\n",
       "    .dataframe tbody tr th {\n",
       "        vertical-align: top;\n",
       "    }\n",
       "\n",
       "    .dataframe thead th {\n",
       "        text-align: right;\n",
       "    }\n",
       "</style>\n",
       "<table border=\"1\" class=\"dataframe\">\n",
       "  <thead>\n",
       "    <tr style=\"text-align: right;\">\n",
       "      <th></th>\n",
       "      <th>userID</th>\n",
       "      <th>movieID</th>\n",
       "      <th>rating</th>\n",
       "      <th>timestamp</th>\n",
       "      <th>userIndex</th>\n",
       "      <th>movieIndex</th>\n",
       "      <th>timeIndex</th>\n",
       "    </tr>\n",
       "  </thead>\n",
       "  <tbody>\n",
       "    <tr>\n",
       "      <th>569876</th>\n",
       "      <td>46085</td>\n",
       "      <td>1407</td>\n",
       "      <td>3.5</td>\n",
       "      <td>1135641962000</td>\n",
       "      <td>1319</td>\n",
       "      <td>651</td>\n",
       "      <td>0</td>\n",
       "    </tr>\n",
       "    <tr>\n",
       "      <th>569986</th>\n",
       "      <td>46085</td>\n",
       "      <td>2858</td>\n",
       "      <td>3.5</td>\n",
       "      <td>1135642017000</td>\n",
       "      <td>1319</td>\n",
       "      <td>1251</td>\n",
       "      <td>1</td>\n",
       "    </tr>\n",
       "    <tr>\n",
       "      <th>569988</th>\n",
       "      <td>46085</td>\n",
       "      <td>2890</td>\n",
       "      <td>4.5</td>\n",
       "      <td>1135642044000</td>\n",
       "      <td>1319</td>\n",
       "      <td>1264</td>\n",
       "      <td>2</td>\n",
       "    </tr>\n",
       "  </tbody>\n",
       "</table>\n",
       "</div>"
      ],
      "text/plain": [
       "       userID movieID  rating      timestamp  userIndex  movieIndex  timeIndex\n",
       "569876  46085    1407     3.5  1135641962000       1319         651          0\n",
       "569986  46085    2858     3.5  1135642017000       1319        1251          1\n",
       "569988  46085    2890     4.5  1135642044000       1319        1264          2"
      ]
     },
     "execution_count": 5,
     "metadata": {},
     "output_type": "execute_result"
    }
   ],
   "source": [
    "# re-allocate the index of data\n",
    "ratings_select.userID = ratings_select.userID.astype('category')\n",
    "ratings_select.movieID = ratings_select.movieID.astype('category')\n",
    "ratings_select.timestamp = ratings_select.timestamp.astype('category')\n",
    "ratings_select['userIndex'] = ratings_select.userID.cat.codes\n",
    "ratings_select['movieIndex'] = ratings_select.movieID.cat.codes\n",
    "ratings_select['timeIndex'] = ratings_select.timestamp.cat.codes\n",
    "\n",
    "ratings_select = ratings_select.sort_values(\"timeIndex\", inplace=False, ascending=True)\n",
    "ratings_select[0:3]"
   ]
  },
  {
   "cell_type": "code",
   "execution_count": 6,
   "metadata": {},
   "outputs": [
    {
     "data": {
      "text/html": [
       "<div>\n",
       "<style scoped>\n",
       "    .dataframe tbody tr th:only-of-type {\n",
       "        vertical-align: middle;\n",
       "    }\n",
       "\n",
       "    .dataframe tbody tr th {\n",
       "        vertical-align: top;\n",
       "    }\n",
       "\n",
       "    .dataframe thead th {\n",
       "        text-align: right;\n",
       "    }\n",
       "</style>\n",
       "<table border=\"1\" class=\"dataframe\">\n",
       "  <thead>\n",
       "    <tr style=\"text-align: right;\">\n",
       "      <th></th>\n",
       "      <th>userID</th>\n",
       "      <th>movieID</th>\n",
       "      <th>rating</th>\n",
       "      <th>timestamp</th>\n",
       "      <th>userIndex</th>\n",
       "      <th>movieIndex</th>\n",
       "      <th>timeIndex</th>\n",
       "      <th>timeSeg</th>\n",
       "    </tr>\n",
       "  </thead>\n",
       "  <tbody>\n",
       "    <tr>\n",
       "      <th>569876</th>\n",
       "      <td>46085</td>\n",
       "      <td>1407</td>\n",
       "      <td>3.5</td>\n",
       "      <td>1135641962000</td>\n",
       "      <td>1319</td>\n",
       "      <td>651</td>\n",
       "      <td>0</td>\n",
       "      <td>0</td>\n",
       "    </tr>\n",
       "    <tr>\n",
       "      <th>569986</th>\n",
       "      <td>46085</td>\n",
       "      <td>2858</td>\n",
       "      <td>3.5</td>\n",
       "      <td>1135642017000</td>\n",
       "      <td>1319</td>\n",
       "      <td>1251</td>\n",
       "      <td>1</td>\n",
       "      <td>0</td>\n",
       "    </tr>\n",
       "    <tr>\n",
       "      <th>569988</th>\n",
       "      <td>46085</td>\n",
       "      <td>2890</td>\n",
       "      <td>4.5</td>\n",
       "      <td>1135642044000</td>\n",
       "      <td>1319</td>\n",
       "      <td>1264</td>\n",
       "      <td>2</td>\n",
       "      <td>0</td>\n",
       "    </tr>\n",
       "  </tbody>\n",
       "</table>\n",
       "</div>"
      ],
      "text/plain": [
       "       userID movieID  rating      timestamp  userIndex  movieIndex  \\\n",
       "569876  46085    1407     3.5  1135641962000       1319         651   \n",
       "569986  46085    2858     3.5  1135642017000       1319        1251   \n",
       "569988  46085    2890     4.5  1135642044000       1319        1264   \n",
       "\n",
       "        timeIndex  timeSeg  \n",
       "569876          0        0  \n",
       "569986          1        0  \n",
       "569988          2        0  "
      ]
     },
     "execution_count": 6,
     "metadata": {},
     "output_type": "execute_result"
    }
   ],
   "source": [
    "# time segmentation by month\n",
    "seq = ratings_select['timeIndex'].max()//36\n",
    "time_seg = []\n",
    "for i in range(ratings_select.shape[0]):\n",
    "    if ratings_select.iloc[i,6]//seq != 36:\n",
    "        time_seg.append(ratings_select.iloc[i,6]//seq)\n",
    "    else:\n",
    "        time_seg.append(35)\n",
    "ratings_select.insert(7, 'timeSeg', time_seg)\n",
    "ratings_select[0:3]"
   ]
  },
  {
   "cell_type": "code",
   "execution_count": 7,
   "metadata": {},
   "outputs": [
    {
     "name": "stdout",
     "output_type": "stream",
     "text": [
      "(358028, 3) (89507, 3) (358028,) (89507,)\n"
     ]
    }
   ],
   "source": [
    "# train test split\n",
    "X_train, X_test, y_train, y_test = train_test_split(ratings_select[['userIndex', 'movieIndex', 'timeSeg']].values, \n",
    "                                                    ratings_select['rating'].values, test_size=0.2, random_state=0)\n",
    "print(X_train.shape, X_test.shape,y_train.shape, y_test.shape)"
   ]
  },
  {
   "cell_type": "code",
   "execution_count": 8,
   "metadata": {},
   "outputs": [],
   "source": [
    "# save processed data\n",
    "ratings_select.to_csv(r'C:\\Users\\LHY\\Dropbox\\Gunosy\\Jupyter\\data\\hetrec_20core_explicit.csv') "
   ]
  },
  {
   "cell_type": "code",
   "execution_count": 9,
   "metadata": {
    "scrolled": true
   },
   "outputs": [
    {
     "name": "stdout",
     "output_type": "stream",
     "text": [
      "tensor size is [2045, 3696, 36]\n",
      "epoch 1 finish. RSE of random 100 samples is 0.2174594464302721\n",
      "epoch 2 finish. RSE of random 100 samples is 0.23248218129839573\n",
      "spend time is 43.22656809999998\n",
      "order-3 MAE on training set is 0.6065236104555491\n"
     ]
    }
   ],
   "source": [
    "# train on the training set\n",
    "\n",
    "# TR-SGD\n",
    "\n",
    "tensor_size = [ratings_select['userIndex'].max()  + 1,ratings_select['movieIndex'].max() + 1, 36]\n",
    "print('tensor size is', tensor_size)\n",
    "\n",
    "tr_rank = [10, 10, 10]\n",
    "\n",
    "start1 = timeit.default_timer()\n",
    "cores = TR_SGD(X_train, y_train, tensor_size, tr_rank, learning_rate = 0.01, epoch = 2, alpha = 0.01, beta = 1)\n",
    "stop1 = timeit.default_timer()\n",
    "print('spend time is', stop1 - start1)\n",
    "\n",
    "y_approx = []\n",
    "for i in range(X_train.shape[0]):\n",
    "    y_approx.append(np.trace(cores_multi(cores, np.array(X_train[i]), remove_n = None)))\n",
    "MAE = evaluation_MAE(y_train, y_approx)\n",
    "print('order-3 MAE on training set is', MAE)"
   ]
  },
  {
   "cell_type": "code",
   "execution_count": 10,
   "metadata": {
    "scrolled": true
   },
   "outputs": [
    {
     "name": "stdout",
     "output_type": "stream",
     "text": [
      "order-3 MAE on test set is 0.6364672868326426\n"
     ]
    }
   ],
   "source": [
    "# test on the test set\n",
    "y_test_approx = []\n",
    "for i in range(X_test.shape[0]):\n",
    "    y_test_approx.append(np.trace(cores_multi(cores, np.array(X_test[i]), remove_n = None)))\n",
    "MAE = evaluation_MAE(y_test, np.array(y_test_approx).T)\n",
    "print('order-3 MAE on test set is', MAE)"
   ]
  },
  {
   "cell_type": "code",
   "execution_count": 11,
   "metadata": {},
   "outputs": [
    {
     "name": "stdout",
     "output_type": "stream",
     "text": [
      "real rating: [4.5 3.5 4.  3.  3.5]\n",
      "pred rating: [4.25694433 3.02635601 2.47200297 3.50731822 4.50153581]\n"
     ]
    }
   ],
   "source": [
    "y_pred = np.array(y_test_approx).T\n",
    "print('real rating:',y_test[0:5])\n",
    "print('pred rating:',y_pred[0:5])"
   ]
  }
 ],
 "metadata": {
  "kernelspec": {
   "display_name": "Python 3",
   "language": "python",
   "name": "python3"
  },
  "language_info": {
   "codemirror_mode": {
    "name": "ipython",
    "version": 3
   },
   "file_extension": ".py",
   "mimetype": "text/x-python",
   "name": "python",
   "nbconvert_exporter": "python",
   "pygments_lexer": "ipython3",
   "version": "3.7.3"
  }
 },
 "nbformat": 4,
 "nbformat_minor": 2
}
