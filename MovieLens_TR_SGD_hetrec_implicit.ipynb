{
 "cells": [
  {
   "cell_type": "code",
   "execution_count": 1,
   "metadata": {},
   "outputs": [],
   "source": [
    "# For testing the performance of Tensor Ring Stochastic Gradient Descent (TR-SGD) on Recommendation System\n",
    "from tr_functions import *\n",
    "import timeit\n",
    "from datetime import datetime\n",
    "import pandas as pd\n",
    "from sklearn.model_selection import train_test_split"
   ]
  },
  {
   "cell_type": "code",
   "execution_count": 2,
   "metadata": {},
   "outputs": [
    {
     "name": "stdout",
     "output_type": "stream",
     "text": [
      "Data info:\n",
      "number of tagging is 47957\n",
      "number of user is 2113\n",
      "number of movie is 5908\n",
      "number of different tags is 9079\n",
      "tags is from 2005-12-24 03:13:00 to 2009-01-05 07:37:13\n",
      "time gap is 3.036119133688483 years\n"
     ]
    },
    {
     "data": {
      "text/html": [
       "<div>\n",
       "<style scoped>\n",
       "    .dataframe tbody tr th:only-of-type {\n",
       "        vertical-align: middle;\n",
       "    }\n",
       "\n",
       "    .dataframe tbody tr th {\n",
       "        vertical-align: top;\n",
       "    }\n",
       "\n",
       "    .dataframe thead th {\n",
       "        text-align: right;\n",
       "    }\n",
       "</style>\n",
       "<table border=\"1\" class=\"dataframe\">\n",
       "  <thead>\n",
       "    <tr style=\"text-align: right;\">\n",
       "      <th></th>\n",
       "      <th>userID</th>\n",
       "      <th>movieID</th>\n",
       "      <th>tagID</th>\n",
       "      <th>timestamp</th>\n",
       "    </tr>\n",
       "  </thead>\n",
       "  <tbody>\n",
       "    <tr>\n",
       "      <th>47575</th>\n",
       "      <td>71331</td>\n",
       "      <td>1396</td>\n",
       "      <td>542</td>\n",
       "      <td>1135361580000</td>\n",
       "    </tr>\n",
       "    <tr>\n",
       "      <th>11358</th>\n",
       "      <td>22198</td>\n",
       "      <td>4011</td>\n",
       "      <td>520</td>\n",
       "      <td>1135429431000</td>\n",
       "    </tr>\n",
       "    <tr>\n",
       "      <th>11355</th>\n",
       "      <td>22198</td>\n",
       "      <td>2329</td>\n",
       "      <td>8336</td>\n",
       "      <td>1135429508000</td>\n",
       "    </tr>\n",
       "  </tbody>\n",
       "</table>\n",
       "</div>"
      ],
      "text/plain": [
       "       userID  movieID  tagID      timestamp\n",
       "47575   71331     1396    542  1135361580000\n",
       "11358   22198     4011    520  1135429431000\n",
       "11355   22198     2329   8336  1135429508000"
      ]
     },
     "execution_count": 2,
     "metadata": {},
     "output_type": "execute_result"
    }
   ],
   "source": [
    "tags = pd.read_csv(r'C:\\Users\\LHY\\Dropbox\\Gunosy\\Jupyter\\data\\ml-hetrec/user_taggedmovies-timestamps.dat', sep=None,  engine='python')\n",
    "# tags = pd.read_csv(r'C:\\Users\\LHY\\Dropbox\\Gunosy\\Jupyter\\data\\ml-25m/tags.csv', engine='python')\n",
    "tags = tags.sort_values(\"timestamp\", inplace=False, ascending=True)\n",
    "\n",
    "def ml_tag_info(tags):\n",
    "    user_count = tags.iloc[:,0].value_counts()\n",
    "    movie_count = tags.iloc[:,1].value_counts()\n",
    "    tags_count = tags.iloc[:,2].value_counts()\n",
    "    print('Data info:')\n",
    "    print('number of tagging is', tags.shape[0])\n",
    "    print('number of user is', user_count.shape[0])\n",
    "    print('number of movie is', movie_count.shape[0])\n",
    "    print('number of different tags is', tags_count.shape[0])\n",
    "    print('tags is from', datetime.fromtimestamp(tags.iloc[:,3].min()/1000), 'to', datetime.fromtimestamp(tags.iloc[:,3].max()/1000))\n",
    "    print('time gap is', (tags.iloc[:,3].max() - tags.iloc[:,3].min())/365/24/3600/1000,'years')\n",
    "#print('data sparsity is', tags_count.shape[0]tags.iloc[:,0].value_counts().shape[0])\n",
    "ml_tag_info(tags)\n",
    "tags[0:3]"
   ]
  },
  {
   "cell_type": "code",
   "execution_count": 3,
   "metadata": {
    "scrolled": true
   },
   "outputs": [
    {
     "name": "stdout",
     "output_type": "stream",
     "text": [
      "Data info:\n",
      "number of tagging is 40000\n",
      "number of user is 1777\n",
      "number of movie is 5554\n",
      "number of different tags is 2561\n",
      "tags is from 2005-12-24 22:03:51 to 2009-01-05 07:06:38\n",
      "time gap is 3.0339094051243025 years\n",
      "5241    3\n",
      "2185    3\n",
      "2047    3\n",
      "Name: tagID, dtype: int64\n"
     ]
    }
   ],
   "source": [
    "# filtering tags\n",
    "tags_select = tags.copy()\n",
    "num = 3\n",
    "\n",
    "tags_count = tags_select.iloc[:,2].value_counts()\n",
    "for i in range(tags_count.shape[0]):\n",
    "    if np.array(tags_count)[i] < num:\n",
    "        tags_select = tags_select[~tags_select['tagID'].isin([tags_count.index[i]])]\n",
    "        \n",
    "tags_count = tags_select.iloc[:,2].value_counts()\n",
    "ml_tag_info(tags_select)\n",
    "print(tags_count[tags_count.shape[0]-3:])"
   ]
  },
  {
   "cell_type": "code",
   "execution_count": 4,
   "metadata": {},
   "outputs": [
    {
     "name": "stdout",
     "output_type": "stream",
     "text": [
      "19820    3\n",
      "66929    3\n",
      "26589    3\n",
      "Name: userID, dtype: int64\n",
      "Data info:\n",
      "number of tagging is 38816\n",
      "number of user is 829\n",
      "number of movie is 5499\n",
      "number of different tags is 2556\n",
      "tags is from 2005-12-24 22:03:51 to 2009-01-05 07:06:38\n",
      "time gap is 3.0339094051243025 years\n"
     ]
    }
   ],
   "source": [
    "# filtering users\n",
    "user_count = tags_select.iloc[:,0].value_counts()\n",
    "for i in range(user_count.shape[0]):\n",
    "    if np.array(user_count)[i] < num:\n",
    "        tags_select = tags_select[~tags_select['userID'].isin([user_count.index[i]])]\n",
    "        \n",
    "user_count = tags_select.iloc[:,0].value_counts()\n",
    "print(user_count[user_count.shape[0]-3:])\n",
    "ml_tag_info(tags_select)"
   ]
  },
  {
   "cell_type": "code",
   "execution_count": 5,
   "metadata": {},
   "outputs": [
    {
     "name": "stdout",
     "output_type": "stream",
     "text": [
      "58975    3\n",
      "3261     3\n",
      "26398    3\n",
      "Name: movieID, dtype: int64\n",
      "Data info:\n",
      "number of tagging is 35553\n",
      "number of user is 828\n",
      "number of movie is 3125\n",
      "number of different tags is 2539\n",
      "tags is from 2005-12-24 22:03:51 to 2009-01-05 07:06:38\n",
      "time gap is 3.0339094051243025 years\n"
     ]
    }
   ],
   "source": [
    "# filtering movies\n",
    "movie_count = tags_select.iloc[:,1].value_counts()\n",
    "for i in range(movie_count.shape[0]):\n",
    "    if np.array(movie_count)[i] < num:\n",
    "        tags_select = tags_select[~tags_select['movieID'].isin([movie_count.index[i]])]\n",
    "        \n",
    "movie_count = tags_select.iloc[:,1].value_counts()\n",
    "print(movie_count[movie_count.shape[0]-3:])\n",
    "ml_tag_info(tags_select)"
   ]
  },
  {
   "cell_type": "code",
   "execution_count": 6,
   "metadata": {},
   "outputs": [
    {
     "data": {
      "text/html": [
       "<div>\n",
       "<style scoped>\n",
       "    .dataframe tbody tr th:only-of-type {\n",
       "        vertical-align: middle;\n",
       "    }\n",
       "\n",
       "    .dataframe tbody tr th {\n",
       "        vertical-align: top;\n",
       "    }\n",
       "\n",
       "    .dataframe thead th {\n",
       "        text-align: right;\n",
       "    }\n",
       "</style>\n",
       "<table border=\"1\" class=\"dataframe\">\n",
       "  <thead>\n",
       "    <tr style=\"text-align: right;\">\n",
       "      <th></th>\n",
       "      <th>userID</th>\n",
       "      <th>movieID</th>\n",
       "      <th>tagID</th>\n",
       "      <th>timestamp</th>\n",
       "      <th>userIndex</th>\n",
       "      <th>movieIndex</th>\n",
       "      <th>tagIndex</th>\n",
       "      <th>timeIndex</th>\n",
       "    </tr>\n",
       "  </thead>\n",
       "  <tbody>\n",
       "    <tr>\n",
       "      <th>35412</th>\n",
       "      <td>48717</td>\n",
       "      <td>45442</td>\n",
       "      <td>2</td>\n",
       "      <td>1161647764000</td>\n",
       "      <td>562</td>\n",
       "      <td>2820</td>\n",
       "      <td>0</td>\n",
       "      <td>10581</td>\n",
       "    </tr>\n",
       "    <tr>\n",
       "      <th>38294</th>\n",
       "      <td>55865</td>\n",
       "      <td>31367</td>\n",
       "      <td>2</td>\n",
       "      <td>1201473648000</td>\n",
       "      <td>635</td>\n",
       "      <td>2590</td>\n",
       "      <td>0</td>\n",
       "      <td>27371</td>\n",
       "    </tr>\n",
       "    <tr>\n",
       "      <th>13718</th>\n",
       "      <td>23172</td>\n",
       "      <td>3697</td>\n",
       "      <td>2</td>\n",
       "      <td>1205721076000</td>\n",
       "      <td>288</td>\n",
       "      <td>1329</td>\n",
       "      <td>0</td>\n",
       "      <td>28150</td>\n",
       "    </tr>\n",
       "  </tbody>\n",
       "</table>\n",
       "</div>"
      ],
      "text/plain": [
       "      userID movieID tagID      timestamp  userIndex  movieIndex  tagIndex  \\\n",
       "35412  48717   45442     2  1161647764000        562        2820         0   \n",
       "38294  55865   31367     2  1201473648000        635        2590         0   \n",
       "13718  23172    3697     2  1205721076000        288        1329         0   \n",
       "\n",
       "       timeIndex  \n",
       "35412      10581  \n",
       "38294      27371  \n",
       "13718      28150  "
      ]
     },
     "execution_count": 6,
     "metadata": {},
     "output_type": "execute_result"
    }
   ],
   "source": [
    "tags_select.userID = tags_select.userID.astype('category')\n",
    "tags_select.movieID = tags_select.movieID.astype('category')\n",
    "tags_select.timestamp = tags_select.timestamp.astype('category')\n",
    "tags_select.tagID = tags_select.tagID.astype('category')\n",
    "tags_select['userIndex'] = tags_select.userID.cat.codes\n",
    "tags_select['movieIndex'] = tags_select.movieID.cat.codes\n",
    "tags_select['tagIndex'] = tags_select.tagID.cat.codes\n",
    "tags_select['timeIndex'] = tags_select.timestamp.cat.codes\n",
    "\n",
    "tags_select = tags_select.sort_values(\"tagIndex\", inplace=False, ascending=True)\n",
    "tags_select[0:3]"
   ]
  },
  {
   "cell_type": "code",
   "execution_count": 7,
   "metadata": {
    "scrolled": true
   },
   "outputs": [
    {
     "data": {
      "text/html": [
       "<div>\n",
       "<style scoped>\n",
       "    .dataframe tbody tr th:only-of-type {\n",
       "        vertical-align: middle;\n",
       "    }\n",
       "\n",
       "    .dataframe tbody tr th {\n",
       "        vertical-align: top;\n",
       "    }\n",
       "\n",
       "    .dataframe thead th {\n",
       "        text-align: right;\n",
       "    }\n",
       "</style>\n",
       "<table border=\"1\" class=\"dataframe\">\n",
       "  <thead>\n",
       "    <tr style=\"text-align: right;\">\n",
       "      <th></th>\n",
       "      <th>userID</th>\n",
       "      <th>movieID</th>\n",
       "      <th>tagID</th>\n",
       "      <th>timestamp</th>\n",
       "      <th>userIndex</th>\n",
       "      <th>movieIndex</th>\n",
       "      <th>tagIndex</th>\n",
       "      <th>timeIndex</th>\n",
       "      <th>timeSeg</th>\n",
       "    </tr>\n",
       "  </thead>\n",
       "  <tbody>\n",
       "    <tr>\n",
       "      <th>35412</th>\n",
       "      <td>48717</td>\n",
       "      <td>45442</td>\n",
       "      <td>2</td>\n",
       "      <td>1161647764000</td>\n",
       "      <td>562</td>\n",
       "      <td>2820</td>\n",
       "      <td>0</td>\n",
       "      <td>10581</td>\n",
       "      <td>11</td>\n",
       "    </tr>\n",
       "    <tr>\n",
       "      <th>38294</th>\n",
       "      <td>55865</td>\n",
       "      <td>31367</td>\n",
       "      <td>2</td>\n",
       "      <td>1201473648000</td>\n",
       "      <td>635</td>\n",
       "      <td>2590</td>\n",
       "      <td>0</td>\n",
       "      <td>27371</td>\n",
       "      <td>30</td>\n",
       "    </tr>\n",
       "    <tr>\n",
       "      <th>13718</th>\n",
       "      <td>23172</td>\n",
       "      <td>3697</td>\n",
       "      <td>2</td>\n",
       "      <td>1205721076000</td>\n",
       "      <td>288</td>\n",
       "      <td>1329</td>\n",
       "      <td>0</td>\n",
       "      <td>28150</td>\n",
       "      <td>31</td>\n",
       "    </tr>\n",
       "  </tbody>\n",
       "</table>\n",
       "</div>"
      ],
      "text/plain": [
       "      userID movieID tagID      timestamp  userIndex  movieIndex  tagIndex  \\\n",
       "35412  48717   45442     2  1161647764000        562        2820         0   \n",
       "38294  55865   31367     2  1201473648000        635        2590         0   \n",
       "13718  23172    3697     2  1205721076000        288        1329         0   \n",
       "\n",
       "       timeIndex  timeSeg  \n",
       "35412      10581       11  \n",
       "38294      27371       30  \n",
       "13718      28150       31  "
      ]
     },
     "execution_count": 7,
     "metadata": {},
     "output_type": "execute_result"
    }
   ],
   "source": [
    "seq = tags_select['timeIndex'].max()//36\n",
    "time_seg = []\n",
    "for i in range(tags_select.shape[0]):\n",
    "    if tags_select.iloc[i,7]//seq != 36:\n",
    "        time_seg.append(tags_select.iloc[i,7]//seq)\n",
    "    else:\n",
    "        time_seg.append(35)\n",
    "tags_select.insert(8, 'timeSeg', time_seg)\n",
    "tags_select[0:3]"
   ]
  },
  {
   "cell_type": "code",
   "execution_count": 8,
   "metadata": {},
   "outputs": [],
   "source": [
    "tags_select.to_csv(r'C:\\Users\\LHY\\Dropbox\\Gunosy\\Jupyter\\data\\hetrec_3core_implicit.csv') "
   ]
  },
  {
   "cell_type": "code",
   "execution_count": 9,
   "metadata": {},
   "outputs": [
    {
     "name": "stdout",
     "output_type": "stream",
     "text": [
      "(28442, 4) (7111, 4) (28442,) (7111,)\n"
     ]
    }
   ],
   "source": [
    "X_train, X_test, _, _ = train_test_split(tags_select[['userIndex', 'movieIndex', 'tagIndex', 'timeSeg']].values, \n",
    "                                                    tags_select['userIndex'].values, test_size=0.2, random_state=0)\n",
    "\n",
    "y_train = np.ones(X_train.shape[0])\n",
    "y_test = np.ones(X_test.shape[0])\n",
    "\n",
    "print(X_train.shape, X_test.shape,y_train.shape, y_test.shape)"
   ]
  },
  {
   "cell_type": "code",
   "execution_count": 10,
   "metadata": {
    "scrolled": true
   },
   "outputs": [
    {
     "name": "stdout",
     "output_type": "stream",
     "text": [
      "tensor size is [828, 3125, 2539, 36]\n",
      "epoch 1 finish. RSE of random 100 samples is 0.7573726208874021\n",
      "epoch 2 finish. RSE of random 100 samples is 0.3973248503143981\n",
      "epoch 3 finish. RSE of random 100 samples is 0.3693706142941528\n",
      "epoch 4 finish. RSE of random 100 samples is 0.24639376180497902\n",
      "epoch 5 finish. RSE of random 100 samples is 0.19608960705507664\n",
      "epoch 6 finish. RSE of random 100 samples is 0.13344983888540848\n",
      "epoch 7 finish. RSE of random 100 samples is 0.14303677489210295\n",
      "epoch 8 finish. RSE of random 100 samples is 0.10038444399139353\n",
      "epoch 9 finish. RSE of random 100 samples is 0.14220826680718157\n",
      "epoch 10 finish. RSE of random 100 samples is 0.12352811883605072\n",
      "spend time is 24.0397383\n",
      "order-4 MAE on training set is 0.09011067641512653\n",
      "order-4 MAE on test set is 0.10960595862845589\n"
     ]
    }
   ],
   "source": [
    "# Train on the training data\n",
    "\n",
    "# TR-SGD\n",
    "\n",
    "tensor_size = [tags_select['userIndex'].max()  + 1,tags_select['movieIndex'].max() + 1, tags_select['tagIndex'].max()+1, 36]\n",
    "print('tensor size is', tensor_size)\n",
    "\n",
    "tr_rank = [10, 10, 10, 10]\n",
    "\n",
    "start1 = timeit.default_timer()\n",
    "cores = TR_SGD(X_train, y_train, tensor_size, tr_rank, learning_rate = 0.01, epoch = 10, alpha = 0.01, beta = 1)\n",
    "stop1 = timeit.default_timer()\n",
    "print('spend time is', stop1 - start1)\n",
    "\n",
    "y_approx = []\n",
    "for i in range(X_train.shape[0]):\n",
    "    y_approx.append(np.trace(cores_multi(cores, np.array(X_train[i]), remove_n = None)))\n",
    "MAE = evaluation_MAE(y_train, y_approx)\n",
    "print('order-4 MAE on training set is', MAE)\n",
    "\n",
    "y_test_approx = []\n",
    "for i in range(X_test.shape[0]):\n",
    "    y_test_approx.append(np.trace(cores_multi(cores, np.array(X_test[i]), remove_n = None)))\n",
    "MAE = evaluation_MAE(y_test, y_test_approx)\n",
    "print('order-4 MAE on test set is', MAE)\n"
   ]
  },
  {
   "cell_type": "code",
   "execution_count": null,
   "metadata": {},
   "outputs": [],
   "source": []
  }
 ],
 "metadata": {
  "kernelspec": {
   "display_name": "Python 3",
   "language": "python",
   "name": "python3"
  },
  "language_info": {
   "codemirror_mode": {
    "name": "ipython",
    "version": 3
   },
   "file_extension": ".py",
   "mimetype": "text/x-python",
   "name": "python",
   "nbconvert_exporter": "python",
   "pygments_lexer": "ipython3",
   "version": "3.7.3"
  }
 },
 "nbformat": 4,
 "nbformat_minor": 2
}
